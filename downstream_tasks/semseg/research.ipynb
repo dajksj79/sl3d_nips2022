{
 "cells": [
  {
   "cell_type": "code",
   "execution_count": 4,
   "metadata": {},
   "outputs": [],
   "source": [
    "import os\n",
    "import sys\n",
    "\n",
    "import json\n",
    "import time\n",
    "import numpy as np\n",
    "\n",
    "sys.path.append(\".\")\n",
    "from preprocessing.scannet_util import g_label_names, g_raw2scannet\n",
    "from lib.pc_util import read_ply_xyzrgbnormal\n",
    "from lib.utils import get_eta\n",
    "# from lib.config import CONF"
   ]
  },
  {
   "cell_type": "code",
   "execution_count": null,
   "metadata": {},
   "outputs": [],
   "source": [
    "scene_name = 'scene0000_00'\n",
    "data_folder = os.path.join('./data/sl3d_data/scans', scene_name)\n",
    "mesh_seg_filename = os.path.join(data_folder, '%s_vh_clean_2.0.010000.segs.json'%(scene_name))\n",
    "\n",
    "with open(mesh_seg_filename) as jsondata:\n",
    "        d = json.load(jsondata)\n",
    "        seg = d['segIndices']\n",
    "        #print len(seg)\n",
    "segid_to_pointid = {}\n",
    "for i in range(len(seg)):\n",
    "    if seg[i] not in segid_to_pointid:\n",
    "        segid_to_pointid[seg[i]] = []\n",
    "    segid_to_pointid[seg[i]].append(i)\n",
    "\n",
    "print(seg)"
   ]
  },
  {
   "cell_type": "code",
   "execution_count": 38,
   "metadata": {},
   "outputs": [
    {
     "name": "stdout",
     "output_type": "stream",
     "text": [
      "[ 0.50276446  4.9811115   0.57867444 73.         70.         47.\n",
      "  0.48054093 -0.7761271  -0.40829787]\n"
     ]
    }
   ],
   "source": [
    "# Raw points in XYZRGBA\n",
    "ply_filename = os.path.join(data_folder, '%s_vh_clean_2.ply' % (scene_name))\n",
    "points = read_ply_xyzrgbnormal(ply_filename)\n",
    "print(points[1000])"
   ]
  },
  {
   "cell_type": "code",
   "execution_count": 9,
   "metadata": {},
   "outputs": [],
   "source": [
    " # Instances over-segmented segment IDs: annotation on segments\n",
    "instance_segids = []\n",
    "labels = []\n",
    "annotation_filename = os.path.join(data_folder, '%s.aggregation.json'%(scene_name)) # low-res mesh\n",
    "# annotation_filename = os.path.join(data_folder, '%s_vh_clean.aggregation.json'%(scene_name)) # high-res mesh\n",
    "#print annotation_filename\n",
    "with open(annotation_filename) as jsondata:\n",
    "    d = json.load(jsondata)\n",
    "    for x in d['segGroups']:\n",
    "        instance_segids.append(x['segments'])\n",
    "        labels.append(x['label'])"
   ]
  },
  {
   "cell_type": "code",
   "execution_count": 46,
   "metadata": {},
   "outputs": [],
   "source": [
    "# Each instance's points\n",
    "CLASS_NAMES = g_label_names\n",
    "RAW2SCANNET = g_raw2scannet\n",
    "instance_points_list = []\n",
    "instance_labels_list = []\n",
    "semantic_labels_list = []\n",
    "# print(points[segid_to_pointid[instance_segids[0][0]], :])\n",
    "for i in range(len(instance_segids)):\n",
    "    segids = instance_segids[i]\n",
    "    pointids = []\n",
    "    for segid in segids:\n",
    "        pointids += segid_to_pointid[segid]\n",
    "    instance_points = points[np.array(pointids),:]\n",
    "    instance_points_list.append(instance_points)\n",
    "    instance_labels_list.append(np.ones((instance_points.shape[0], 1))*i)   \n",
    "    label = RAW2SCANNET[labels[i]]\n",
    "    label = CLASS_NAMES.index(label)\n",
    "    semantic_labels_list.append(np.ones((instance_points.shape[0], 1))*label)"
   ]
  },
  {
   "cell_type": "code",
   "execution_count": 71,
   "metadata": {},
   "outputs": [
    {
     "name": "stdout",
     "output_type": "stream",
     "text": [
      "[ 3.8378706e+00  8.0876102e+00  1.8599916e+00  8.5000000e+01\n",
      "  7.5000000e+01  5.7000000e+01 -1.3799611e-01 -9.9036634e-01\n",
      " -1.1475773e-02]\n",
      "[8. 8. 8. ... 2. 2. 2.]\n"
     ]
    }
   ],
   "source": [
    "# Refactor data format\n",
    "scene_points = np.concatenate(instance_points_list, 0)\n",
    "scene_points = scene_points[:,0:9] # XYZ+RGB+NORMAl\n",
    "instance_labels = np.concatenate(instance_labels_list, 0) \n",
    "semantic_labels = np.concatenate(semantic_labels_list, 0)\n",
    "data = np.concatenate((scene_points, instance_labels, semantic_labels), 1)\n",
    "print(scene_points[0])\n",
    "print(data[:15550,10])"
   ]
  }
 ],
 "metadata": {
  "kernelspec": {
   "display_name": "notebook",
   "language": "python",
   "name": "notebook"
  },
  "language_info": {
   "codemirror_mode": {
    "name": "ipython",
    "version": 3
   },
   "file_extension": ".py",
   "mimetype": "text/x-python",
   "name": "python",
   "nbconvert_exporter": "python",
   "pygments_lexer": "ipython3",
   "version": "3.7.11"
  },
  "orig_nbformat": 4
 },
 "nbformat": 4,
 "nbformat_minor": 2
}
